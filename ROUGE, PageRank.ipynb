{
 "cells": [
  {
   "cell_type": "markdown",
   "metadata": {},
   "source": [
    "## ROUGE "
   ]
  },
  {
   "cell_type": "code",
   "execution_count": 10,
   "metadata": {
    "collapsed": false
   },
   "outputs": [],
   "source": [
    "from sklearn.feature_extraction.text import CountVectorizer\n",
    "import pymorphy2\n",
    "import re"
   ]
  },
  {
   "cell_type": "code",
   "execution_count": 11,
   "metadata": {
    "collapsed": true
   },
   "outputs": [],
   "source": [
    "expert = '\"Русгидро\", \"Росгеология\", \"Транснефть\" получат предложения перенести свои главные офисы на Дальний Восток '\n",
    "systems = ['Компаниям «Русгидро», «Транснефть» и «Росгеология» предложили подумать о переезде на Дальний Восток. ', \n",
    "           'По словам вице-премьера по Дальнему Востоку переезд может как-то затронуть \"РусГидро\", \"Транснефть\" и \"Росгеологию\" ']"
   ]
  },
  {
   "cell_type": "code",
   "execution_count": 12,
   "metadata": {
    "collapsed": true
   },
   "outputs": [],
   "source": [
    "def stem_file(text):\n",
    "    text = re.split(\"[^а-я0-9]\", text.lower())\n",
    "    morph = pymorphy2.MorphAnalyzer()\n",
    "    stemmed_text = []\n",
    "    for word in text:\n",
    "        if len(word) > 0:\n",
    "            stemmed_text.append(morph.parse(word)[0].normal_form)\n",
    "    return stemmed_text"
   ]
  },
  {
   "cell_type": "code",
   "execution_count": 15,
   "metadata": {
    "collapsed": true
   },
   "outputs": [],
   "source": [
    "def ROUGE(expert, system, N):\n",
    "    stemmed_exp = stem_file(expert)\n",
    "    stemmed_system = stem_file(system)        \n",
    "    vectorizer = CountVectorizer(ngram_range=(N,N), binary=True) \n",
    "    exp_vec = vectorizer.fit_transform([' '.join(stemmed_exp)])\n",
    "    sys_vec = vectorizer.transform([' '.join(stemmed_system)])\n",
    "    return sys_vec.sum() / exp_vec.sum()"
   ]
  },
  {
   "cell_type": "code",
   "execution_count": 21,
   "metadata": {
    "collapsed": false
   },
   "outputs": [
    {
     "name": "stdout",
     "output_type": "stream",
     "text": [
      "ROUGE-1 для первой системы = 0.5000\n",
      "\n",
      "ROUGE-1 для второй системы = 0.4167\n",
      "\n",
      "ROUGE-2 для первой системы = 0.1818\n",
      "\n",
      "ROUGE-2 для второй системы = 0.0909\n",
      "\n"
     ]
    }
   ],
   "source": [
    "print(\"ROUGE-1 для первой системы = %.04f\\n\"%(ROUGE(expert, systems[0], 1)))\n",
    "print(\"ROUGE-1 для второй системы = %.04f\\n\"%(ROUGE(expert, systems[1], 1)))\n",
    "print(\"ROUGE-2 для первой системы = %.04f\\n\"%(ROUGE(expert, systems[0], 2)))\n",
    "print(\"ROUGE-2 для второй системы = %.04f\\n\"%(ROUGE(expert, systems[1], 2)))"
   ]
  },
  {
   "cell_type": "markdown",
   "metadata": {},
   "source": [
    "#### По результатам - первая система лучше"
   ]
  },
  {
   "cell_type": "markdown",
   "metadata": {},
   "source": [
    "## Page Rank"
   ]
  },
  {
   "cell_type": "code",
   "execution_count": 22,
   "metadata": {
    "collapsed": true
   },
   "outputs": [],
   "source": [
    "import numpy as np\n",
    "from sklearn.preprocessing import normalize"
   ]
  },
  {
   "cell_type": "code",
   "execution_count": 42,
   "metadata": {
    "collapsed": false
   },
   "outputs": [
    {
     "name": "stdout",
     "output_type": "stream",
     "text": [
      "Матрица переходов:\n",
      " [[ 0.03333333  0.48333333  0.48333333]\n",
      " [ 0.03333333  0.03333333  0.93333333]\n",
      " [ 0.03333333  0.93333333  0.03333333]] \n",
      "\n",
      "Initial random vector:\n",
      " [[ 0.33333333  0.33333333  0.33333333]] \n",
      "\n",
      "Page rank d1:\n",
      " 0.0333333333333 \n",
      "\n",
      "Page rank d2:\n",
      " 0.483333333333 \n",
      "\n",
      "Page rank d3:\n",
      " 0.483333333333 \n",
      "\n"
     ]
    }
   ],
   "source": [
    "Matrix_base = np.array([[0, 1, 1], \n",
    "                   [0, 0, 1],\n",
    "                   [0, 1, 0]], dtype=float) \n",
    "\n",
    "Matrix_norm = normalize(Matrix_base, axis=1, norm='l1') \n",
    "\n",
    "tel_k = 0.1\n",
    "num_pages = 3\n",
    "\n",
    "Matrix = (1.0 - tel_k) * Matrix_norm + tel_k / num_pages \n",
    "print(\"Матрица переходов:\\n\", Matrix, \"\\n\")\n",
    "\n",
    "vec = normalize(np.random.uniform(size=(1, 3), low=0.5, high=0.5), norm='l1')\n",
    "print(\"Initial random vector:\\n\", vec, \"\\n\")\n",
    "\n",
    "dv = 10\n",
    "while dv > 1e-7:\n",
    "    v_new = vec.dot(Matrix)\n",
    "    dv = np.linalg.norm(vec - v_new)\n",
    "    vec = normalize(v_new, norm='l1')\n",
    "print(\"Page rank d1:\\n\", vec[0][0], '\\n')\n",
    "print(\"Page rank d2:\\n\", vec[0][1], '\\n')\n",
    "print(\"Page rank d3:\\n\", vec[0][2], '\\n')"
   ]
  },
  {
   "cell_type": "code",
   "execution_count": null,
   "metadata": {
    "collapsed": true
   },
   "outputs": [],
   "source": []
  }
 ],
 "metadata": {
  "kernelspec": {
   "display_name": "Python 3",
   "language": "python",
   "name": "python3"
  },
  "language_info": {
   "codemirror_mode": {
    "name": "ipython",
    "version": 3
   },
   "file_extension": ".py",
   "mimetype": "text/x-python",
   "name": "python",
   "nbconvert_exporter": "python",
   "pygments_lexer": "ipython3",
   "version": "3.5.2"
  }
 },
 "nbformat": 4,
 "nbformat_minor": 0
}
